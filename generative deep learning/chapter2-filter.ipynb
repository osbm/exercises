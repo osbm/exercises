{
 "cells": [
  {
   "cell_type": "code",
   "execution_count": 1,
   "metadata": {},
   "outputs": [],
   "source": [
    "import numpy as np\n",
    "import matplotlib.pyplot as plt\n"
   ]
  },
  {
   "cell_type": "code",
   "execution_count": 6,
   "metadata": {},
   "outputs": [],
   "source": [
    "#!pip install scikit-image\n",
    "\n",
    "from skimage import data\n",
    "from skimage.color import rgb2gray\n",
    "from skimage.transform import resize, rescale"
   ]
  },
  {
   "cell_type": "code",
   "execution_count": 7,
   "metadata": {},
   "outputs": [
    {
     "name": "stdout",
     "output_type": "stream",
     "text": [
      "(64, 64)\n"
     ]
    }
   ],
   "source": [
    "im = rgb2gray(data.coffee())\n",
    "im = resize(im, (64,64))\n",
    "print(im.shape)\n"
   ]
  },
  {
   "cell_type": "code",
   "execution_count": 8,
   "metadata": {},
   "outputs": [
    {
     "data": {
      "image/png": "[encoded data removed]",
      "text/plain": [
       "<Figure size 432x288 with 1 Axes>"
      ]
     },
     "metadata": {
      "needs_background": "light"
     },
     "output_type": "display_data"
    }
   ],
   "source": [
    "plt.axis('off')\n",
    "plt.imshow(im, cmap = 'gray');\n"
   ]
  },
  {
   "cell_type": "code",
   "execution_count": 9,
   "metadata": {},
   "outputs": [],
   "source": [
    "filter1 = np.array([\n",
    "    [ 1,  1,  1],\n",
    "    [ 0,  0,  0],\n",
    "    [-1, -1, -1]\n",
    "])\n"
   ]
  },
  {
   "cell_type": "code",
   "execution_count": 15,
   "metadata": {},
   "outputs": [
    {
     "data": {
      "text/plain": [
       "(64, 64)"
      ]
     },
     "execution_count": 15,
     "metadata": {},
     "output_type": "execute_result"
    }
   ],
   "source": [
    "new_image = np.zeros(im.shape)\n",
    "new_image.shape"
   ]
  },
  {
   "cell_type": "code",
   "execution_count": 13,
   "metadata": {},
   "outputs": [
    {
     "data": {
      "text/plain": [
       "(66, 66)"
      ]
     },
     "execution_count": 13,
     "metadata": {},
     "output_type": "execute_result"
    }
   ],
   "source": [
    "im_pad = np.pad(im, 1, 'constant')\n",
    "im_pad.shape"
   ]
  },
  {
   "cell_type": "code",
   "execution_count": 16,
   "metadata": {},
   "outputs": [],
   "source": [
    "for i in range(im.shape[0]):\n",
    "    for j in range(im.shape[1]):\n",
    "        try:\n",
    "            new_image[i,j] = \\\n",
    "            im_pad[i-1,j-1] * filter1[0,0] + \\\n",
    "            im_pad[i-1,j] * filter1[0,1] + \\\n",
    "            im_pad[i-1,j+1] * filter1[0,2] + \\\n",
    "            im_pad[i,j-1] * filter1[1,0] + \\\n",
    "            im_pad[i,j] * filter1[1,1] + \\\n",
    "            im_pad[i,j+1] * filter1[1,2] +\\\n",
    "            im_pad[i+1,j-1] * filter1[2,0] + \\\n",
    "            im_pad[i+1,j] * filter1[2,1] + \\\n",
    "            im_pad[i+1,j+1] * filter1[2,2] \n",
    "        except:\n",
    "            pass\n"
   ]
  },
  {
   "cell_type": "code",
   "execution_count": 17,
   "metadata": {},
   "outputs": [
    {
     "data": {
      "image/png": "[encoded data removed]",
      "text/plain": [
       "<Figure size 432x288 with 1 Axes>"
      ]
     },
     "metadata": {
      "needs_background": "light"
     },
     "output_type": "display_data"
    }
   ],
   "source": [
    "plt.axis('off')\n",
    "plt.imshow(new_image, cmap='Greys');\n"
   ]
  },
  {
   "cell_type": "code",
   "execution_count": 18,
   "metadata": {},
   "outputs": [
    {
     "data": {
      "image/png": "[encoded data removed]",
      "text/plain": [
       "<Figure size 432x288 with 1 Axes>"
      ]
     },
     "metadata": {
      "needs_background": "light"
     },
     "output_type": "display_data"
    }
   ],
   "source": [
    "filter2 = np.array([\n",
    "    [ -1,  0,  1],\n",
    "    [ -1,  0,  1],\n",
    "    [ -1,  0,  1]\n",
    "])\n",
    "\n",
    "new_image = np.zeros(im.shape)\n",
    "\n",
    "im_pad = np.pad(im,1, 'constant')\n",
    "\n",
    "for i in range(im.shape[0]):\n",
    "    for j in range(im.shape[1]):\n",
    "        try:\n",
    "            new_image[i,j] = \\\n",
    "            im_pad[i-1,j-1] * filter2[0,0] + \\\n",
    "            im_pad[i-1,j] * filter2[0,1] + \\\n",
    "            im_pad[i-1,j+1] * filter2[0,2] + \\\n",
    "            im_pad[i,j-1] * filter2[1,0] + \\\n",
    "            im_pad[i,j] * filter2[1,1] + \\\n",
    "            im_pad[i,j+1] * filter2[1,2] +\\\n",
    "            im_pad[i+1,j-1] * filter2[2,0] + \\\n",
    "            im_pad[i+1,j] * filter2[2,1] + \\\n",
    "            im_pad[i+1,j+1] * filter2[2,2] \n",
    "        except:\n",
    "            pass\n",
    "\n",
    "plt.axis('off')\n",
    "plt.imshow(new_image, cmap='Greys');\n"
   ]
  },
  {
   "cell_type": "code",
   "execution_count": 19,
   "metadata": {},
   "outputs": [
    {
     "data": {
      "image/png": "[encoded data removed]",
      "text/plain": [
       "<Figure size 432x288 with 1 Axes>"
      ]
     },
     "metadata": {
      "needs_background": "light"
     },
     "output_type": "display_data"
    }
   ],
   "source": [
    "filter1 = np.array([\n",
    "    [ 1,  1,  1],\n",
    "    [ 0,  0,  0],\n",
    "    [-1, -1, -1]\n",
    "])\n",
    "\n",
    "stride = 2\n",
    "\n",
    "new_image = np.zeros((int(im.shape[0] / stride), int(im.shape[1] / stride)))\n",
    "\n",
    "im_pad = np.pad(im,1, 'constant')\n",
    "\n",
    "for i in range(0,im.shape[0],stride):\n",
    "    for j in range(0,im.shape[1],stride):\n",
    "        try:\n",
    "            new_image[int(i/stride),int(j/stride)] = \\\n",
    "            im_pad[i-1,j-1] * filter1[0,0] + \\\n",
    "            im_pad[i-1,j] * filter1[0,1] + \\\n",
    "            im_pad[i-1,j+1] * filter1[0,2] + \\\n",
    "            im_pad[i,j-1] * filter1[1,0] + \\\n",
    "            im_pad[i,j] * filter1[1,1] + \\\n",
    "            im_pad[i,j+1] * filter1[1,2] +\\\n",
    "            im_pad[i+1,j-1] * filter1[2,0] + \\\n",
    "            im_pad[i+1,j] * filter1[2,1] + \\\n",
    "            im_pad[i+1,j+1] * filter1[2,2] \n",
    "        except:\n",
    "            pass\n",
    "\n",
    "plt.axis('off')\n",
    "plt.imshow(new_image, cmap='Greys');\n"
   ]
  },
  {
   "cell_type": "code",
   "execution_count": 20,
   "metadata": {},
   "outputs": [
    {
     "data": {
      "image/png": "[encoded data removed]",
      "text/plain": [
       "<Figure size 432x288 with 1 Axes>"
      ]
     },
     "metadata": {
      "needs_background": "light"
     },
     "output_type": "display_data"
    }
   ],
   "source": [
    "filter2 = np.array([\n",
    "    [ -1,  0,  1],\n",
    "    [ -1,  0,  1],\n",
    "    [ -1,  0,  1]\n",
    "])\n",
    "\n",
    "stride = 2\n",
    "\n",
    "new_image = np.zeros((int(im.shape[0] / stride), int(im.shape[1] / stride)))\n",
    "\n",
    "im_pad = np.pad(im,1, 'constant')\n",
    "\n",
    "for i in range(0,im.shape[0],stride):\n",
    "    for j in range(0,im.shape[1],stride):\n",
    "        try:\n",
    "            new_image[int(i/stride),int(j/stride)] = \\\n",
    "            im_pad[i-1,j-1] * filter2[0,0] + \\\n",
    "            im_pad[i-1,j] * filter2[0,1] + \\\n",
    "            im_pad[i-1,j+1] * filter2[0,2] + \\\n",
    "            im_pad[i,j-1] * filter2[1,0] + \\\n",
    "            im_pad[i,j] * filter2[1,1] + \\\n",
    "            im_pad[i,j+1] * filter2[1,2] +\\\n",
    "            im_pad[i+1,j-1] * filter2[2,0] + \\\n",
    "            im_pad[i+1,j] * filter2[2,1] + \\\n",
    "            im_pad[i+1,j+1] * filter2[2,2] \n",
    "        except:\n",
    "            pass\n",
    "\n",
    "plt.axis('off')\n",
    "plt.imshow(new_image, cmap='Greys');"
   ]
  },
  {
   "cell_type": "code",
   "execution_count": null,
   "metadata": {},
   "outputs": [],
   "source": []
  }
 ],
 "metadata": {
  "interpreter": {
   "hash": "1946861164f6c6335bb8e886ce82f8dfaeab42671b28f8a8ac95536cb50aada4"
  },
  "kernelspec": {
   "display_name": "Python 3.8.13 64-bit ('3.8.13')",
   "language": "python",
   "name": "python3"
  },
  "language_info": {
   "codemirror_mode": {
    "name": "ipython",
    "version": 3
   },
   "file_extension": ".py",
   "mimetype": "text/x-python",
   "name": "python",
   "nbconvert_exporter": "python",
   "pygments_lexer": "ipython3",
   "version": "3.8.13"
  },
  "orig_nbformat": 4
 },
 "nbformat": 4,
 "nbformat_minor": 2
}
