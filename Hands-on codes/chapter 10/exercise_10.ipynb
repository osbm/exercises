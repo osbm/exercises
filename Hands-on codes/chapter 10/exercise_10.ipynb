{
 "cells": [
  {
   "cell_type": "code",
   "execution_count": 1,
   "metadata": {},
   "outputs": [
    {
     "name": "stderr",
     "output_type": "stream",
     "text": [
      "2022-05-04 16:11:10.236716: W tensorflow/stream_executor/platform/default/dso_loader.cc:64] Could not load dynamic library 'libcudart.so.11.0'; dlerror: libcudart.so.11.0: cannot open shared object file: No such file or directory\n",
      "2022-05-04 16:11:10.236751: I tensorflow/stream_executor/cuda/cudart_stub.cc:29] Ignore above cudart dlerror if you do not have a GPU set up on your machine.\n"
     ]
    }
   ],
   "source": [
    "import tensorflow as tf\n",
    "import numpy as np\n",
    "import matplotlib.pyplot as plt\n",
    "from tensorflow.keras.datasets import mnist\n",
    "from tensorflow import keras\n"
   ]
  },
  {
   "cell_type": "code",
   "execution_count": 2,
   "metadata": {},
   "outputs": [],
   "source": [
    "# Load the data\n",
    "(X_train, y_train), (X_test, y_test) = mnist.load_data()"
   ]
  },
  {
   "cell_type": "code",
   "execution_count": 3,
   "metadata": {},
   "outputs": [
    {
     "name": "stderr",
     "output_type": "stream",
     "text": [
      "2022-05-04 16:11:14.000395: I tensorflow/stream_executor/cuda/cuda_gpu_executor.cc:936] successful NUMA node read from SysFS had negative value (-1), but there must be at least one NUMA node, so returning NUMA node zero\n",
      "2022-05-04 16:11:14.001064: W tensorflow/stream_executor/platform/default/dso_loader.cc:64] Could not load dynamic library 'libcudart.so.11.0'; dlerror: libcudart.so.11.0: cannot open shared object file: No such file or directory\n",
      "2022-05-04 16:11:14.001102: W tensorflow/stream_executor/platform/default/dso_loader.cc:64] Could not load dynamic library 'libcublas.so.11'; dlerror: libcublas.so.11: cannot open shared object file: No such file or directory\n",
      "2022-05-04 16:11:14.001133: W tensorflow/stream_executor/platform/default/dso_loader.cc:64] Could not load dynamic library 'libcublasLt.so.11'; dlerror: libcublasLt.so.11: cannot open shared object file: No such file or directory\n",
      "2022-05-04 16:11:14.001163: W tensorflow/stream_executor/platform/default/dso_loader.cc:64] Could not load dynamic library 'libcufft.so.10'; dlerror: libcufft.so.10: cannot open shared object file: No such file or directory\n",
      "2022-05-04 16:11:14.001193: W tensorflow/stream_executor/platform/default/dso_loader.cc:64] Could not load dynamic library 'libcurand.so.10'; dlerror: libcurand.so.10: cannot open shared object file: No such file or directory\n",
      "2022-05-04 16:11:14.001222: W tensorflow/stream_executor/platform/default/dso_loader.cc:64] Could not load dynamic library 'libcusolver.so.11'; dlerror: libcusolver.so.11: cannot open shared object file: No such file or directory\n",
      "2022-05-04 16:11:14.001251: W tensorflow/stream_executor/platform/default/dso_loader.cc:64] Could not load dynamic library 'libcusparse.so.11'; dlerror: libcusparse.so.11: cannot open shared object file: No such file or directory\n",
      "2022-05-04 16:11:14.001281: W tensorflow/stream_executor/platform/default/dso_loader.cc:64] Could not load dynamic library 'libcudnn.so.8'; dlerror: libcudnn.so.8: cannot open shared object file: No such file or directory\n",
      "2022-05-04 16:11:14.001287: W tensorflow/core/common_runtime/gpu/gpu_device.cc:1850] Cannot dlopen some GPU libraries. Please make sure the missing libraries mentioned above are installed properly if you would like to use GPU. Follow the guide at https://www.tensorflow.org/install/gpu for how to download and setup the required libraries for your platform.\n",
      "Skipping registering GPU devices...\n",
      "2022-05-04 16:11:14.001506: I tensorflow/core/platform/cpu_feature_guard.cc:151] This TensorFlow binary is optimized with oneAPI Deep Neural Network Library (oneDNN) to use the following CPU instructions in performance-critical operations:  AVX2 AVX512F FMA\n",
      "To enable them in other operations, rebuild TensorFlow with the appropriate compiler flags.\n"
     ]
    },
    {
     "name": "stdout",
     "output_type": "stream",
     "text": [
      "                                     \n",
      "                                     \n",
      "    █▀▀▀▀▀█ ▀▀▀█▄ ▀ █▀█▄  █▀▀▀▀▀█    \n",
      "    █ ███ █  ▀▄█ ██ ▄▄▄█▄ █ ███ █    \n",
      "    █ ▀▀▀ █  ▄▀█▀ ▄ █ ▀▀  █ ▀▀▀ █    \n",
      "    ▀▀▀▀▀▀▀ █▄▀ █▄▀▄█ █ █ ▀▀▀▀▀▀▀    \n",
      "    ██ ██▄▀  ▀▄ ▀▄ ▄▀▀▄█▀▄▀▄▄ ▄▄▀    \n",
      "    ▀▀ ▀▄█▀▀▄▀  ▀ █▀█▄▀▄▄ ▄  ▄▀ ▄    \n",
      "    █▄▄█ ▄▀  ██ ▄▄▀▄█▄▄ ▀ ██▄▄▄▄█    \n",
      "    ▄▄ ██▄▀█▄█▀ ▄  █▀▀ ▀▄█▄▄  █ █    \n",
      "    █ ██▀▄▀██▀▄█▀▀█▄  ▄▄▄  ▀▄▀▄▄     \n",
      "    ██▄▄▀▄▀ ██ ▄▀▄▀▀ ▀ █▄ ██▀█▄ ▀    \n",
      "    ▀▀  ▀ ▀▀▄▀▀▀▄  ▄▀██▀█▀▀▀██▀▀     \n",
      "    █▀▀▀▀▀█  ▀▄█▄▀ ▀█▄ ██ ▀ █▀ ▄     \n",
      "    █ ███ █ █▀▀▀▀▄▀██  █▀█▀▀▀▀ ▀▄    \n",
      "    █ ▀▀▀ █ ▄▀██▀▀▄██ ▄ ▀  ██▄█▀█    \n",
      "    ▀▀▀▀▀▀▀ ▀▀  ▀ ▀▀▀   ▀            \n",
      "                                     \n",
      "                                     \n",
      "https://mlnotify.aporia.com/training/593360\n",
      "\n",
      "Scan the QR code or enter the url to get a notification when your training is done\n",
      "\n",
      "\n",
      "Epoch 1/20\n",
      "1875/1875 [==============================] - 6s 3ms/step - loss: 1.5716 - accuracy: 0.8788\n",
      "Epoch 2/20\n",
      "1875/1875 [==============================] - 6s 3ms/step - loss: 0.3131 - accuracy: 0.9331\n",
      "Epoch 3/20\n",
      "1875/1875 [==============================] - 6s 3ms/step - loss: 0.2004 - accuracy: 0.9471\n",
      "Epoch 4/20\n",
      "1875/1875 [==============================] - 6s 3ms/step - loss: 0.1659 - accuracy: 0.9545\n",
      "Epoch 5/20\n",
      "1875/1875 [==============================] - 5s 3ms/step - loss: 0.1468 - accuracy: 0.9592\n",
      "Epoch 6/20\n",
      "1875/1875 [==============================] - 6s 3ms/step - loss: 0.1266 - accuracy: 0.9645\n",
      "Epoch 7/20\n",
      "1875/1875 [==============================] - 6s 3ms/step - loss: 0.1235 - accuracy: 0.9664\n",
      "Epoch 8/20\n",
      "1875/1875 [==============================] - 5s 3ms/step - loss: 0.1086 - accuracy: 0.9693\n",
      "Epoch 9/20\n",
      "1875/1875 [==============================] - 6s 3ms/step - loss: 0.1007 - accuracy: 0.9729\n",
      "Epoch 10/20\n",
      "1875/1875 [==============================] - 6s 3ms/step - loss: 0.0975 - accuracy: 0.9742\n",
      "Epoch 11/20\n",
      "1875/1875 [==============================] - 5s 3ms/step - loss: 0.0871 - accuracy: 0.9754\n",
      "Epoch 12/20\n",
      "1875/1875 [==============================] - 7s 4ms/step - loss: 0.0826 - accuracy: 0.9775\n",
      "Epoch 13/20\n",
      "1875/1875 [==============================] - 7s 4ms/step - loss: 0.0810 - accuracy: 0.9778\n",
      "Epoch 14/20\n",
      "1875/1875 [==============================] - 13s 7ms/step - loss: 0.0760 - accuracy: 0.9799\n",
      "Epoch 15/20\n",
      "1875/1875 [==============================] - 14s 7ms/step - loss: 0.0706 - accuracy: 0.9811\n",
      "Epoch 16/20\n",
      "1875/1875 [==============================] - 14s 7ms/step - loss: 0.0709 - accuracy: 0.9816\n",
      "Epoch 17/20\n",
      "1875/1875 [==============================] - 7s 4ms/step - loss: 0.0617 - accuracy: 0.9833\n",
      "Epoch 18/20\n",
      "1875/1875 [==============================] - 10s 5ms/step - loss: 0.0712 - accuracy: 0.9814\n",
      "Epoch 19/20\n",
      "1875/1875 [==============================] - 6s 3ms/step - loss: 0.0655 - accuracy: 0.9839\n",
      "Epoch 20/20\n",
      "1875/1875 [==============================] - 6s 3ms/step - loss: 0.0623 - accuracy: 0.9843\n"
     ]
    }
   ],
   "source": [
    "import mlnotify\n",
    "model = keras.Sequential([\n",
    "    keras.layers.Flatten(input_shape=(28, 28)),\n",
    "    keras.layers.Dense(128, activation='relu'),\n",
    "    keras.layers.Dense(128, activation='relu'),\n",
    "    keras.layers.Dense(10, activation='softmax')\n",
    "])\n",
    "model.compile(optimizer='adam',\n",
    "                loss='sparse_categorical_crossentropy',\n",
    "                metrics=['accuracy'])\n",
    "\n",
    "history = model.fit(X_train, y_train, epochs=20)"
   ]
  },
  {
   "cell_type": "code",
   "execution_count": 5,
   "metadata": {},
   "outputs": [
    {
     "name": "stdout",
     "output_type": "stream",
     "text": [
      "Model: \"sequential\"\n",
      "_________________________________________________________________\n",
      " Layer (type)                Output Shape              Param #   \n",
      "=================================================================\n",
      " flatten (Flatten)           (None, 784)               0         \n",
      "                                                                 \n",
      " dense (Dense)               (None, 128)               100480    \n",
      "                                                                 \n",
      " dense_1 (Dense)             (None, 128)               16512     \n",
      "                                                                 \n",
      " dense_2 (Dense)             (None, 10)                1290      \n",
      "                                                                 \n",
      "=================================================================\n",
      "Total params: 118,282\n",
      "Trainable params: 118,282\n",
      "Non-trainable params: 0\n",
      "_________________________________________________________________\n"
     ]
    }
   ],
   "source": [
    "# try searching the optimal learning rate by growing the learning rate exponentially\n",
    "# and observing the loss curve\n",
    "model = keras.Sequential([\n",
    "    keras.layers.Flatten(input_shape=(28, 28)),\n",
    "    keras.layers.Dense(128, activation='relu'),\n",
    "    keras.layers.Dense(128, activation='relu'),\n",
    "    keras.layers.Dense(10, activation='softmax')\n",
    "])\n",
    "model.compile(optimizer=keras.optimizers.Adam(lr=0.1),\n",
    "                loss='sparse_categorical_crossentropy',\n",
    "                metrics=['accuracy'])\n",
    "\n"
   ]
  },
  {
   "cell_type": "code",
   "execution_count": 6,
   "metadata": {},
   "outputs": [],
   "source": [
    "(X_train_full, y_train_full), (X_test, y_test) = keras.datasets.mnist.load_data()"
   ]
  },
  {
   "cell_type": "code",
   "execution_count": 7,
   "metadata": {},
   "outputs": [],
   "source": [
    "X_valid, X_train = X_train_full[:5000] / 255., X_train_full[5000:] / 255.\n",
    "y_valid, y_train = y_train_full[:5000], y_train_full[5000:]\n",
    "X_test = X_test / 255."
   ]
  },
  {
   "cell_type": "code",
   "execution_count": 8,
   "metadata": {},
   "outputs": [
    {
     "data": {
      "image/png": "[encoded data removed]",
      "text/plain": [
       "<Figure size 432x288 with 1 Axes>"
      ]
     },
     "metadata": {
      "needs_background": "light"
     },
     "output_type": "display_data"
    }
   ],
   "source": [
    "plt.imshow(X_train[0])\n",
    "plt.show()"
   ]
  },
  {
   "cell_type": "code",
   "execution_count": 9,
   "metadata": {},
   "outputs": [],
   "source": [
    "K = keras.backend\n",
    "\n",
    "class ExponentialLearningRate(keras.callbacks.Callback):\n",
    "    def __init__(self, factor):\n",
    "        self.factor = factor\n",
    "        self.rates = []\n",
    "        self.losses = []\n",
    "\n",
    "    def on_epoch_end(self, epoch, logs):\n",
    "        self.rates.append(K.get_value(self.model.optimizer.lr))\n",
    "        self.losses.append(logs['loss'])\n",
    "        K.set_value(self.model.optimizer.lr, K.get_value(self.model.optimizer.lr) * self.factor)\n"
   ]
  },
  {
   "cell_type": "code",
   "execution_count": 10,
   "metadata": {},
   "outputs": [],
   "source": [
    "keras.backend.clear_session()\n",
    "np.random.seed(42)\n",
    "tf.random.set_seed(42)"
   ]
  },
  {
   "cell_type": "code",
   "execution_count": 11,
   "metadata": {},
   "outputs": [],
   "source": [
    "model = keras.models.Sequential([\n",
    "    keras.layers.Flatten(input_shape=[28, 28]),\n",
    "    keras.layers.Dense(300, activation=\"relu\"),\n",
    "    keras.layers.Dense(100, activation=\"relu\"),\n",
    "    keras.layers.Dense(10, activation=\"softmax\")\n",
    "])"
   ]
  },
  {
   "cell_type": "code",
   "execution_count": 12,
   "metadata": {},
   "outputs": [],
   "source": [
    "model.compile(loss=\"sparse_categorical_crossentropy\",\n",
    "              optimizer=keras.optimizers.SGD(learning_rate=1e-3),\n",
    "              metrics=[\"accuracy\"])\n",
    "expon_lr = ExponentialLearningRate(factor=1.005)"
   ]
  },
  {
   "cell_type": "code",
   "execution_count": 13,
   "metadata": {},
   "outputs": [
    {
     "name": "stdout",
     "output_type": "stream",
     "text": [
      "                                     \n",
      "                                     \n",
      "    █▀▀▀▀▀█  ▀▀█▄▄█ █▀█ ▄ █▀▀▀▀▀█    \n",
      "    █ ███ █ ▄▀██ ▄█ █▄▄▄▄ █ ███ █    \n",
      "    █ ▀▀▀ █ ▀▄█ ▀▄▀ ▀█▀▀▀ █ ▀▀▀ █    \n",
      "    ▀▀▀▀▀▀▀ ▀▄▀ █ █▄█ █▄▀ ▀▀▀▀▀▀▀    \n",
      "    ██▄▄ ▀▀█▄▀█ ▀▀ ▄ ▀▄▄▀▄ ▄█▀▄▄     \n",
      "    ▀▀█  ▄▀ ▀▀▄█▀ ▀▀▀▀▀▄█  █ ▄       \n",
      "      █▄▄▄▀▄▀▀█ ▄ █▄█▄▄▄█ ██▄  ▄█    \n",
      "    ▄▄█▄▀ ▀███  ▄▀██ ▀  ▄██▄ ▀█ ▄    \n",
      "    ▄▄█▀▄█▀ █▀█ ▀▀▄▄▄█▄▄█ ▄▄▄▀█▄▄    \n",
      "    █▀▄▄▄█▀▄   ▄▀▀▄▀ ▀ ▀  ██▀▀  ▀    \n",
      "    ▀ ▀▀  ▀ ██▀▀▄▀ ▄ ██ █▀▀▀█▄▀▀▀    \n",
      "    █▀▀▀▀▀█ █▀  ▄ ▀▀▀▀ ██ ▀ █▀▀▄▄    \n",
      "    █ ███ █   █▀▀ ███  ▀██▀▀▀█▄▀▄    \n",
      "    █ ▀▀▀ █ ▄ ▀█▀  █▄ ▄▀▀ ▀████▀▄    \n",
      "    ▀▀▀▀▀▀▀ ▀▀▀▀▀  ▀▀▀     ▀  ▀      \n",
      "                                     \n",
      "                                     \n",
      "https://mlnotify.aporia.com/training/346541\n",
      "\n",
      "Scan the QR code or enter the url to get a notification when your training is done\n",
      "\n",
      "\n",
      "1719/1719 [==============================] - 9s 5ms/step - loss: 1.8046 - accuracy: 0.5294 - val_loss: 1.2379 - val_accuracy: 0.7800\n"
     ]
    }
   ],
   "source": [
    "history = model.fit(X_train, y_train, epochs=1,\n",
    "                    validation_data=(X_valid, y_valid),\n",
    "                    callbacks=[expon_lr])"
   ]
  },
  {
   "cell_type": "code",
   "execution_count": 14,
   "metadata": {},
   "outputs": [
    {
     "name": "stderr",
     "output_type": "stream",
     "text": [
      "/tmp/ipykernel_4830/2891158959.py:4: UserWarning: Attempting to set identical left == right == 0.0010000000474974513 results in singular transformations; automatically expanding.\n",
      "  plt.axis([min(expon_lr.rates), max(expon_lr.rates), 0, expon_lr.losses[0]])\n"
     ]
    },
    {
     "data": {
      "text/plain": [
       "Text(0, 0.5, 'Loss')"
      ]
     },
     "execution_count": 14,
     "metadata": {},
     "output_type": "execute_result"
    },
    {
     "data": {
      "image/png": "[encoded data removed]",
      "text/plain": [
       "<Figure size 432x288 with 1 Axes>"
      ]
     },
     "metadata": {
      "needs_background": "light"
     },
     "output_type": "display_data"
    }
   ],
   "source": [
    "plt.plot(expon_lr.rates, expon_lr.losses)\n",
    "plt.gca().set_xscale('log')\n",
    "plt.hlines(min(expon_lr.losses), min(expon_lr.rates), max(expon_lr.rates))\n",
    "plt.axis([min(expon_lr.rates), max(expon_lr.rates), 0, expon_lr.losses[0]])\n",
    "plt.grid()\n",
    "plt.xlabel(\"Learning rate\")\n",
    "plt.ylabel(\"Loss\")"
   ]
  },
  {
   "cell_type": "code",
   "execution_count": 15,
   "metadata": {},
   "outputs": [],
   "source": [
    "keras.backend.clear_session()\n",
    "np.random.seed(42)\n",
    "tf.random.set_seed(42)"
   ]
  },
  {
   "cell_type": "code",
   "execution_count": 16,
   "metadata": {},
   "outputs": [],
   "source": [
    "model = keras.models.Sequential([\n",
    "    keras.layers.Flatten(input_shape=[28, 28]),\n",
    "    keras.layers.Dense(300, activation=\"relu\"),\n",
    "    keras.layers.Dense(100, activation=\"relu\"),\n",
    "    keras.layers.Dense(10, activation=\"softmax\")\n",
    "])"
   ]
  },
  {
   "cell_type": "code",
   "execution_count": 17,
   "metadata": {},
   "outputs": [],
   "source": [
    "model.compile(loss=\"sparse_categorical_crossentropy\",\n",
    "              optimizer=keras.optimizers.SGD(learning_rate=3e-1),\n",
    "              metrics=[\"accuracy\"])"
   ]
  },
  {
   "cell_type": "code",
   "execution_count": 18,
   "metadata": {},
   "outputs": [
    {
     "data": {
      "text/plain": [
       "'./my_mnist_logs/run_001'"
      ]
     },
     "execution_count": 18,
     "metadata": {},
     "output_type": "execute_result"
    }
   ],
   "source": [
    "run_index = 1 # increment this at every run\n",
    "run_logdir = os.path.join(os.curdir, \"my_mnist_logs\", \"run_{:03d}\".format(run_index))\n",
    "run_logdir"
   ]
  },
  {
   "cell_type": "code",
   "execution_count": 19,
   "metadata": {},
   "outputs": [
    {
     "name": "stdout",
     "output_type": "stream",
     "text": [
      "                                     \n",
      "                                     \n",
      "    █▀▀▀▀▀█  ▀▀█▄▄█ █▀█ ▄ █▀▀▀▀▀█    \n",
      "    █ ███ █ ▄▀██ ▄█ █▄▄▄▄ █ ███ █    \n",
      "    █ ▀▀▀ █ ▀▄█ ▀ ▀ ▀█▀▀▀ █ ▀▀▀ █    \n",
      "    ▀▀▀▀▀▀▀ ▀▄▀ █ ▀▄█ █▄▀ ▀▀▀▀▀▀▀    \n",
      "    ▀█ ▄ █▀█▄▀█ ▀█ ▄ ▀▄▄▀▄ ▄█▀▄▄     \n",
      "    ▀▄▄▀▀▀▀██▀▄█▀  ▀▀▀▀▄█  █ ▄       \n",
      "    ▄▀▀▀▄ ▀██▀█ ▄ █▄█▄▄▄█ ██▄  ▄█    \n",
      "    ▄ ▀▄█▄▀█▀ ▄ ▄▀ █ ▀  ▄██▄ ▀█ ▄    \n",
      "    █▀▀▀ █▀▀▀▄█ ▀▀▄▄▄█▄▄█ ▄▄▄▀█▄▄    \n",
      "    █▀▀ ▀▀▀█▀█▀▄▀▀█▀ ▀ ▀  ██▀▀  ▀    \n",
      "    ▀  ▀▀ ▀ █▀█▀▄█ ▄ ██ █▀▀▀█▄▀▀▀    \n",
      "    █▀▀▀▀▀█ ██▄ ▄  ▀▀▀ ██ ▀ █▀▀▄▄    \n",
      "    █ ███ █  █▀▀▀▄███  ▀██▀▀▀█▄▀▄    \n",
      "    █ ▀▀▀ █ ▄▄▀█▀ ▄█▄ ▄▀▀ ▀████▀▄    \n",
      "    ▀▀▀▀▀▀▀ ▀  ▀▀  ▀▀▀     ▀  ▀      \n",
      "                                     \n",
      "                                     \n",
      "https://mlnotify.aporia.com/training/083188\n",
      "\n",
      "Scan the QR code or enter the url to get a notification when your training is done\n",
      "\n",
      "\n",
      "Epoch 1/100\n",
      "1719/1719 [==============================] - 9s 5ms/step - loss: 0.2363 - accuracy: 0.9264 - val_loss: 0.0972 - val_accuracy: 0.9720\n",
      "Epoch 2/100\n",
      "1719/1719 [==============================] - 11s 6ms/step - loss: 0.0943 - accuracy: 0.9708 - val_loss: 0.0925 - val_accuracy: 0.9740\n",
      "Epoch 3/100\n",
      "1719/1719 [==============================] - 12s 7ms/step - loss: 0.0672 - accuracy: 0.9784 - val_loss: 0.0837 - val_accuracy: 0.9774\n",
      "Epoch 4/100\n",
      "1719/1719 [==============================] - 9s 5ms/step - loss: 0.0475 - accuracy: 0.9845 - val_loss: 0.0749 - val_accuracy: 0.9798\n",
      "Epoch 5/100\n",
      "1719/1719 [==============================] - 10s 6ms/step - loss: 0.0362 - accuracy: 0.9878 - val_loss: 0.0725 - val_accuracy: 0.9826\n",
      "Epoch 6/100\n",
      "1719/1719 [==============================] - 6s 4ms/step - loss: 0.0310 - accuracy: 0.9900 - val_loss: 0.0801 - val_accuracy: 0.9800\n",
      "Epoch 7/100\n",
      "1719/1719 [==============================] - 6s 4ms/step - loss: 0.0239 - accuracy: 0.9919 - val_loss: 0.0858 - val_accuracy: 0.9788\n",
      "Epoch 8/100\n",
      "1719/1719 [==============================] - 6s 4ms/step - loss: 0.0220 - accuracy: 0.9930 - val_loss: 0.1325 - val_accuracy: 0.9668\n",
      "Epoch 9/100\n",
      "1719/1719 [==============================] - 6s 4ms/step - loss: 0.0148 - accuracy: 0.9954 - val_loss: 0.0795 - val_accuracy: 0.9820\n",
      "Epoch 10/100\n",
      "1719/1719 [==============================] - 6s 4ms/step - loss: 0.0115 - accuracy: 0.9962 - val_loss: 0.1034 - val_accuracy: 0.9794\n",
      "Epoch 11/100\n",
      "1719/1719 [==============================] - 6s 4ms/step - loss: 0.0119 - accuracy: 0.9958 - val_loss: 0.0898 - val_accuracy: 0.9828\n",
      "Epoch 12/100\n",
      "1719/1719 [==============================] - 6s 4ms/step - loss: 0.0123 - accuracy: 0.9963 - val_loss: 0.0963 - val_accuracy: 0.9802\n",
      "Epoch 13/100\n",
      "1719/1719 [==============================] - 6s 4ms/step - loss: 0.0081 - accuracy: 0.9975 - val_loss: 0.0834 - val_accuracy: 0.9836\n",
      "Epoch 14/100\n",
      "1719/1719 [==============================] - 6s 4ms/step - loss: 0.0039 - accuracy: 0.9990 - val_loss: 0.0856 - val_accuracy: 0.9848\n",
      "Epoch 15/100\n",
      "1719/1719 [==============================] - 6s 4ms/step - loss: 0.0012 - accuracy: 0.9997 - val_loss: 0.0829 - val_accuracy: 0.9842\n",
      "Epoch 16/100\n",
      "1719/1719 [==============================] - 8s 5ms/step - loss: 2.8841e-04 - accuracy: 1.0000 - val_loss: 0.0834 - val_accuracy: 0.9862\n",
      "Epoch 17/100\n",
      "1719/1719 [==============================] - 7s 4ms/step - loss: 1.3753e-04 - accuracy: 1.0000 - val_loss: 0.0839 - val_accuracy: 0.9854\n",
      "Epoch 18/100\n",
      "1719/1719 [==============================] - 6s 4ms/step - loss: 9.8795e-05 - accuracy: 1.0000 - val_loss: 0.0852 - val_accuracy: 0.9856\n",
      "Epoch 19/100\n",
      "1719/1719 [==============================] - 6s 4ms/step - loss: 8.2160e-05 - accuracy: 1.0000 - val_loss: 0.0862 - val_accuracy: 0.9856\n",
      "Epoch 20/100\n",
      "1719/1719 [==============================] - 6s 4ms/step - loss: 7.1683e-05 - accuracy: 1.0000 - val_loss: 0.0870 - val_accuracy: 0.9858\n",
      "Epoch 21/100\n",
      "1719/1719 [==============================] - 6s 4ms/step - loss: 6.4088e-05 - accuracy: 1.0000 - val_loss: 0.0876 - val_accuracy: 0.9860\n",
      "Epoch 22/100\n",
      "1719/1719 [==============================] - 6s 4ms/step - loss: 5.7783e-05 - accuracy: 1.0000 - val_loss: 0.0883 - val_accuracy: 0.9858\n",
      "Epoch 23/100\n",
      "1719/1719 [==============================] - 6s 4ms/step - loss: 5.2904e-05 - accuracy: 1.0000 - val_loss: 0.0889 - val_accuracy: 0.9862\n",
      "Epoch 24/100\n",
      "1719/1719 [==============================] - 6s 4ms/step - loss: 4.8695e-05 - accuracy: 1.0000 - val_loss: 0.0893 - val_accuracy: 0.9862\n",
      "Epoch 25/100\n",
      "1719/1719 [==============================] - 6s 4ms/step - loss: 4.5402e-05 - accuracy: 1.0000 - val_loss: 0.0898 - val_accuracy: 0.9862\n"
     ]
    }
   ],
   "source": [
    "early_stopping_cb = keras.callbacks.EarlyStopping(patience=20)\n",
    "checkpoint_cb = keras.callbacks.ModelCheckpoint(\"my_mnist_model.h5\", save_best_only=True)\n",
    "tensorboard_cb = keras.callbacks.TensorBoard(run_logdir)\n",
    "\n",
    "history = model.fit(X_train, y_train, epochs=100,\n",
    "                    validation_data=(X_valid, y_valid),\n",
    "                    callbacks=[checkpoint_cb, early_stopping_cb, tensorboard_cb])"
   ]
  },
  {
   "cell_type": "code",
   "execution_count": 21,
   "metadata": {},
   "outputs": [
    {
     "data": {
      "text/html": [
       "\n",
       "      <iframe id=\"tensorboard-frame-80d94cc0283be7b5\" width=\"100%\" height=\"800\" frameborder=\"0\">\n",
       "      </iframe>\n",
       "      <script>\n",
       "        (function() {\n",
       "          const frame = document.getElementById(\"tensorboard-frame-80d94cc0283be7b5\");\n",
       "          const url = new URL(\"/\", window.location);\n",
       "          const port = 6006;\n",
       "          if (port) {\n",
       "            url.port = port;\n",
       "          }\n",
       "          frame.src = url;\n",
       "        })();\n",
       "      </script>\n",
       "    "
      ],
      "text/plain": [
       "<IPython.core.display.HTML object>"
      ]
     },
     "metadata": {},
     "output_type": "display_data"
    }
   ],
   "source": [
    "%load_ext tensorboard\n",
    "\n",
    "%tensorboard --logdir=./my_mnist_logs --port=6006"
   ]
  },
  {
   "cell_type": "code",
   "execution_count": null,
   "metadata": {},
   "outputs": [],
   "source": []
  }
 ],
 "metadata": {
  "interpreter": {
   "hash": "1946861164f6c6335bb8e886ce82f8dfaeab42671b28f8a8ac95536cb50aada4"
  },
  "kernelspec": {
   "display_name": "Python 3.8.13 64-bit ('3.8.13')",
   "language": "python",
   "name": "python3"
  },
  "language_info": {
   "codemirror_mode": {
    "name": "ipython",
    "version": 3
   },
   "file_extension": ".py",
   "mimetype": "text/x-python",
   "name": "python",
   "nbconvert_exporter": "python",
   "pygments_lexer": "ipython3",
   "version": "3.8.13"
  },
  "orig_nbformat": 4
 },
 "nbformat": 4,
 "nbformat_minor": 2
}
