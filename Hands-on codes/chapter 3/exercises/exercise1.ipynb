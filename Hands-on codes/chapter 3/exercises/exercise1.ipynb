{
 "cells": [
  {
   "cell_type": "code",
   "execution_count": 5,
   "metadata": {},
   "outputs": [],
   "source": [
    "# import MNIST data\n",
    "from sklearn.datasets import fetch_openml\n",
    "mnist = fetch_openml('mnist_784', version=1)"
   ]
  },
  {
   "cell_type": "code",
   "execution_count": 7,
   "metadata": {},
   "outputs": [
    {
     "data": {
      "text/plain": [
       "sklearn.utils.Bunch"
      ]
     },
     "execution_count": 7,
     "metadata": {},
     "output_type": "execute_result"
    }
   ],
   "source": [
    "type(mnist)"
   ]
  },
  {
   "cell_type": "code",
   "execution_count": 8,
   "metadata": {},
   "outputs": [],
   "source": [
    "X, y = mnist[\"data\"], mnist[\"target\"]\n"
   ]
  },
  {
   "cell_type": "code",
   "execution_count": 9,
   "metadata": {},
   "outputs": [],
   "source": [
    "X_train, X_test, y_train, y_test = X[:60000], X[60000:], y[:60000], y[60000:]\n"
   ]
  },
  {
   "cell_type": "code",
   "execution_count": 10,
   "metadata": {},
   "outputs": [
    {
     "data": {
      "text/html": [
       "<div>\n",
       "<style scoped>\n",
       "    .dataframe tbody tr th:only-of-type {\n",
       "        vertical-align: middle;\n",
       "    }\n",
       "\n",
       "    .dataframe tbody tr th {\n",
       "        vertical-align: top;\n",
       "    }\n",
       "\n",
       "    .dataframe thead th {\n",
       "        text-align: right;\n",
       "    }\n",
       "</style>\n",
       "<table border=\"1\" class=\"dataframe\">\n",
       "  <thead>\n",
       "    <tr style=\"text-align: right;\">\n",
       "      <th></th>\n",
       "      <th>pixel1</th>\n",
       "      <th>pixel2</th>\n",
       "      <th>pixel3</th>\n",
       "      <th>pixel4</th>\n",
       "      <th>pixel5</th>\n",
       "      <th>pixel6</th>\n",
       "      <th>pixel7</th>\n",
       "      <th>pixel8</th>\n",
       "      <th>pixel9</th>\n",
       "      <th>pixel10</th>\n",
       "      <th>...</th>\n",
       "      <th>pixel775</th>\n",
       "      <th>pixel776</th>\n",
       "      <th>pixel777</th>\n",
       "      <th>pixel778</th>\n",
       "      <th>pixel779</th>\n",
       "      <th>pixel780</th>\n",
       "      <th>pixel781</th>\n",
       "      <th>pixel782</th>\n",
       "      <th>pixel783</th>\n",
       "      <th>pixel784</th>\n",
       "    </tr>\n",
       "  </thead>\n",
       "  <tbody>\n",
       "    <tr>\n",
       "      <th>0</th>\n",
       "      <td>0.0</td>\n",
       "      <td>0.0</td>\n",
       "      <td>0.0</td>\n",
       "      <td>0.0</td>\n",
       "      <td>0.0</td>\n",
       "      <td>0.0</td>\n",
       "      <td>0.0</td>\n",
       "      <td>0.0</td>\n",
       "      <td>0.0</td>\n",
       "      <td>0.0</td>\n",
       "      <td>...</td>\n",
       "      <td>0.0</td>\n",
       "      <td>0.0</td>\n",
       "      <td>0.0</td>\n",
       "      <td>0.0</td>\n",
       "      <td>0.0</td>\n",
       "      <td>0.0</td>\n",
       "      <td>0.0</td>\n",
       "      <td>0.0</td>\n",
       "      <td>0.0</td>\n",
       "      <td>0.0</td>\n",
       "    </tr>\n",
       "    <tr>\n",
       "      <th>1</th>\n",
       "      <td>0.0</td>\n",
       "      <td>0.0</td>\n",
       "      <td>0.0</td>\n",
       "      <td>0.0</td>\n",
       "      <td>0.0</td>\n",
       "      <td>0.0</td>\n",
       "      <td>0.0</td>\n",
       "      <td>0.0</td>\n",
       "      <td>0.0</td>\n",
       "      <td>0.0</td>\n",
       "      <td>...</td>\n",
       "      <td>0.0</td>\n",
       "      <td>0.0</td>\n",
       "      <td>0.0</td>\n",
       "      <td>0.0</td>\n",
       "      <td>0.0</td>\n",
       "      <td>0.0</td>\n",
       "      <td>0.0</td>\n",
       "      <td>0.0</td>\n",
       "      <td>0.0</td>\n",
       "      <td>0.0</td>\n",
       "    </tr>\n",
       "    <tr>\n",
       "      <th>2</th>\n",
       "      <td>0.0</td>\n",
       "      <td>0.0</td>\n",
       "      <td>0.0</td>\n",
       "      <td>0.0</td>\n",
       "      <td>0.0</td>\n",
       "      <td>0.0</td>\n",
       "      <td>0.0</td>\n",
       "      <td>0.0</td>\n",
       "      <td>0.0</td>\n",
       "      <td>0.0</td>\n",
       "      <td>...</td>\n",
       "      <td>0.0</td>\n",
       "      <td>0.0</td>\n",
       "      <td>0.0</td>\n",
       "      <td>0.0</td>\n",
       "      <td>0.0</td>\n",
       "      <td>0.0</td>\n",
       "      <td>0.0</td>\n",
       "      <td>0.0</td>\n",
       "      <td>0.0</td>\n",
       "      <td>0.0</td>\n",
       "    </tr>\n",
       "    <tr>\n",
       "      <th>3</th>\n",
       "      <td>0.0</td>\n",
       "      <td>0.0</td>\n",
       "      <td>0.0</td>\n",
       "      <td>0.0</td>\n",
       "      <td>0.0</td>\n",
       "      <td>0.0</td>\n",
       "      <td>0.0</td>\n",
       "      <td>0.0</td>\n",
       "      <td>0.0</td>\n",
       "      <td>0.0</td>\n",
       "      <td>...</td>\n",
       "      <td>0.0</td>\n",
       "      <td>0.0</td>\n",
       "      <td>0.0</td>\n",
       "      <td>0.0</td>\n",
       "      <td>0.0</td>\n",
       "      <td>0.0</td>\n",
       "      <td>0.0</td>\n",
       "      <td>0.0</td>\n",
       "      <td>0.0</td>\n",
       "      <td>0.0</td>\n",
       "    </tr>\n",
       "    <tr>\n",
       "      <th>4</th>\n",
       "      <td>0.0</td>\n",
       "      <td>0.0</td>\n",
       "      <td>0.0</td>\n",
       "      <td>0.0</td>\n",
       "      <td>0.0</td>\n",
       "      <td>0.0</td>\n",
       "      <td>0.0</td>\n",
       "      <td>0.0</td>\n",
       "      <td>0.0</td>\n",
       "      <td>0.0</td>\n",
       "      <td>...</td>\n",
       "      <td>0.0</td>\n",
       "      <td>0.0</td>\n",
       "      <td>0.0</td>\n",
       "      <td>0.0</td>\n",
       "      <td>0.0</td>\n",
       "      <td>0.0</td>\n",
       "      <td>0.0</td>\n",
       "      <td>0.0</td>\n",
       "      <td>0.0</td>\n",
       "      <td>0.0</td>\n",
       "    </tr>\n",
       "    <tr>\n",
       "      <th>...</th>\n",
       "      <td>...</td>\n",
       "      <td>...</td>\n",
       "      <td>...</td>\n",
       "      <td>...</td>\n",
       "      <td>...</td>\n",
       "      <td>...</td>\n",
       "      <td>...</td>\n",
       "      <td>...</td>\n",
       "      <td>...</td>\n",
       "      <td>...</td>\n",
       "      <td>...</td>\n",
       "      <td>...</td>\n",
       "      <td>...</td>\n",
       "      <td>...</td>\n",
       "      <td>...</td>\n",
       "      <td>...</td>\n",
       "      <td>...</td>\n",
       "      <td>...</td>\n",
       "      <td>...</td>\n",
       "      <td>...</td>\n",
       "      <td>...</td>\n",
       "    </tr>\n",
       "    <tr>\n",
       "      <th>59995</th>\n",
       "      <td>0.0</td>\n",
       "      <td>0.0</td>\n",
       "      <td>0.0</td>\n",
       "      <td>0.0</td>\n",
       "      <td>0.0</td>\n",
       "      <td>0.0</td>\n",
       "      <td>0.0</td>\n",
       "      <td>0.0</td>\n",
       "      <td>0.0</td>\n",
       "      <td>0.0</td>\n",
       "      <td>...</td>\n",
       "      <td>0.0</td>\n",
       "      <td>0.0</td>\n",
       "      <td>0.0</td>\n",
       "      <td>0.0</td>\n",
       "      <td>0.0</td>\n",
       "      <td>0.0</td>\n",
       "      <td>0.0</td>\n",
       "      <td>0.0</td>\n",
       "      <td>0.0</td>\n",
       "      <td>0.0</td>\n",
       "    </tr>\n",
       "    <tr>\n",
       "      <th>59996</th>\n",
       "      <td>0.0</td>\n",
       "      <td>0.0</td>\n",
       "      <td>0.0</td>\n",
       "      <td>0.0</td>\n",
       "      <td>0.0</td>\n",
       "      <td>0.0</td>\n",
       "      <td>0.0</td>\n",
       "      <td>0.0</td>\n",
       "      <td>0.0</td>\n",
       "      <td>0.0</td>\n",
       "      <td>...</td>\n",
       "      <td>0.0</td>\n",
       "      <td>0.0</td>\n",
       "      <td>0.0</td>\n",
       "      <td>0.0</td>\n",
       "      <td>0.0</td>\n",
       "      <td>0.0</td>\n",
       "      <td>0.0</td>\n",
       "      <td>0.0</td>\n",
       "      <td>0.0</td>\n",
       "      <td>0.0</td>\n",
       "    </tr>\n",
       "    <tr>\n",
       "      <th>59997</th>\n",
       "      <td>0.0</td>\n",
       "      <td>0.0</td>\n",
       "      <td>0.0</td>\n",
       "      <td>0.0</td>\n",
       "      <td>0.0</td>\n",
       "      <td>0.0</td>\n",
       "      <td>0.0</td>\n",
       "      <td>0.0</td>\n",
       "      <td>0.0</td>\n",
       "      <td>0.0</td>\n",
       "      <td>...</td>\n",
       "      <td>0.0</td>\n",
       "      <td>0.0</td>\n",
       "      <td>0.0</td>\n",
       "      <td>0.0</td>\n",
       "      <td>0.0</td>\n",
       "      <td>0.0</td>\n",
       "      <td>0.0</td>\n",
       "      <td>0.0</td>\n",
       "      <td>0.0</td>\n",
       "      <td>0.0</td>\n",
       "    </tr>\n",
       "    <tr>\n",
       "      <th>59998</th>\n",
       "      <td>0.0</td>\n",
       "      <td>0.0</td>\n",
       "      <td>0.0</td>\n",
       "      <td>0.0</td>\n",
       "      <td>0.0</td>\n",
       "      <td>0.0</td>\n",
       "      <td>0.0</td>\n",
       "      <td>0.0</td>\n",
       "      <td>0.0</td>\n",
       "      <td>0.0</td>\n",
       "      <td>...</td>\n",
       "      <td>0.0</td>\n",
       "      <td>0.0</td>\n",
       "      <td>0.0</td>\n",
       "      <td>0.0</td>\n",
       "      <td>0.0</td>\n",
       "      <td>0.0</td>\n",
       "      <td>0.0</td>\n",
       "      <td>0.0</td>\n",
       "      <td>0.0</td>\n",
       "      <td>0.0</td>\n",
       "    </tr>\n",
       "    <tr>\n",
       "      <th>59999</th>\n",
       "      <td>0.0</td>\n",
       "      <td>0.0</td>\n",
       "      <td>0.0</td>\n",
       "      <td>0.0</td>\n",
       "      <td>0.0</td>\n",
       "      <td>0.0</td>\n",
       "      <td>0.0</td>\n",
       "      <td>0.0</td>\n",
       "      <td>0.0</td>\n",
       "      <td>0.0</td>\n",
       "      <td>...</td>\n",
       "      <td>0.0</td>\n",
       "      <td>0.0</td>\n",
       "      <td>0.0</td>\n",
       "      <td>0.0</td>\n",
       "      <td>0.0</td>\n",
       "      <td>0.0</td>\n",
       "      <td>0.0</td>\n",
       "      <td>0.0</td>\n",
       "      <td>0.0</td>\n",
       "      <td>0.0</td>\n",
       "    </tr>\n",
       "  </tbody>\n",
       "</table>\n",
       "<p>60000 rows × 784 columns</p>\n",
       "</div>"
      ],
      "text/plain": [
       "       pixel1  pixel2  pixel3  pixel4  pixel5  pixel6  pixel7  pixel8  pixel9  \\\n",
       "0         0.0     0.0     0.0     0.0     0.0     0.0     0.0     0.0     0.0   \n",
       "1         0.0     0.0     0.0     0.0     0.0     0.0     0.0     0.0     0.0   \n",
       "2         0.0     0.0     0.0     0.0     0.0     0.0     0.0     0.0     0.0   \n",
       "3         0.0     0.0     0.0     0.0     0.0     0.0     0.0     0.0     0.0   \n",
       "4         0.0     0.0     0.0     0.0     0.0     0.0     0.0     0.0     0.0   \n",
       "...       ...     ...     ...     ...     ...     ...     ...     ...     ...   \n",
       "59995     0.0     0.0     0.0     0.0     0.0     0.0     0.0     0.0     0.0   \n",
       "59996     0.0     0.0     0.0     0.0     0.0     0.0     0.0     0.0     0.0   \n",
       "59997     0.0     0.0     0.0     0.0     0.0     0.0     0.0     0.0     0.0   \n",
       "59998     0.0     0.0     0.0     0.0     0.0     0.0     0.0     0.0     0.0   \n",
       "59999     0.0     0.0     0.0     0.0     0.0     0.0     0.0     0.0     0.0   \n",
       "\n",
       "       pixel10  ...  pixel775  pixel776  pixel777  pixel778  pixel779  \\\n",
       "0          0.0  ...       0.0       0.0       0.0       0.0       0.0   \n",
       "1          0.0  ...       0.0       0.0       0.0       0.0       0.0   \n",
       "2          0.0  ...       0.0       0.0       0.0       0.0       0.0   \n",
       "3          0.0  ...       0.0       0.0       0.0       0.0       0.0   \n",
       "4          0.0  ...       0.0       0.0       0.0       0.0       0.0   \n",
       "...        ...  ...       ...       ...       ...       ...       ...   \n",
       "59995      0.0  ...       0.0       0.0       0.0       0.0       0.0   \n",
       "59996      0.0  ...       0.0       0.0       0.0       0.0       0.0   \n",
       "59997      0.0  ...       0.0       0.0       0.0       0.0       0.0   \n",
       "59998      0.0  ...       0.0       0.0       0.0       0.0       0.0   \n",
       "59999      0.0  ...       0.0       0.0       0.0       0.0       0.0   \n",
       "\n",
       "       pixel780  pixel781  pixel782  pixel783  pixel784  \n",
       "0           0.0       0.0       0.0       0.0       0.0  \n",
       "1           0.0       0.0       0.0       0.0       0.0  \n",
       "2           0.0       0.0       0.0       0.0       0.0  \n",
       "3           0.0       0.0       0.0       0.0       0.0  \n",
       "4           0.0       0.0       0.0       0.0       0.0  \n",
       "...         ...       ...       ...       ...       ...  \n",
       "59995       0.0       0.0       0.0       0.0       0.0  \n",
       "59996       0.0       0.0       0.0       0.0       0.0  \n",
       "59997       0.0       0.0       0.0       0.0       0.0  \n",
       "59998       0.0       0.0       0.0       0.0       0.0  \n",
       "59999       0.0       0.0       0.0       0.0       0.0  \n",
       "\n",
       "[60000 rows x 784 columns]"
      ]
     },
     "execution_count": 10,
     "metadata": {},
     "output_type": "execute_result"
    }
   ],
   "source": [
    "X_train"
   ]
  },
  {
   "cell_type": "code",
   "execution_count": 23,
   "metadata": {},
   "outputs": [
    {
     "data": {
      "text/plain": [
       "KNeighborsClassifier(n_neighbors=4)"
      ]
     },
     "execution_count": 23,
     "metadata": {},
     "output_type": "execute_result"
    }
   ],
   "source": [
    "# use knn classifier\n",
    "from sklearn.neighbors import KNeighborsClassifier\n",
    "\n",
    "model = KNeighborsClassifier(n_neighbors=4)\n",
    "\n",
    "model.fit(X_train, y_train)\n"
   ]
  },
  {
   "cell_type": "code",
   "execution_count": 24,
   "metadata": {},
   "outputs": [
    {
     "data": {
      "text/plain": [
       "0.9682"
      ]
     },
     "execution_count": 24,
     "metadata": {},
     "output_type": "execute_result"
    }
   ],
   "source": [
    "model.score(X_test, y_test)\n"
   ]
  },
  {
   "cell_type": "code",
   "execution_count": 25,
   "metadata": {},
   "outputs": [],
   "source": [
    "# i cheated"
   ]
  },
  {
   "cell_type": "code",
   "execution_count": 26,
   "metadata": {},
   "outputs": [
    {
     "name": "stdout",
     "output_type": "stream",
     "text": [
      "Fitting 5 folds for each of 20 candidates, totalling 100 fits\n",
      "[CV 1/5] END ....n_neighbors=1, weights=uniform;, score=0.970 total time=  24.9s\n",
      "[CV 2/5] END ....n_neighbors=1, weights=uniform;, score=0.971 total time=  28.8s\n",
      "[CV 3/5] END ....n_neighbors=1, weights=uniform;, score=0.969 total time=  28.9s\n",
      "[CV 4/5] END ....n_neighbors=1, weights=uniform;, score=0.969 total time=  29.2s\n",
      "[CV 5/5] END ....n_neighbors=1, weights=uniform;, score=0.968 total time=  28.5s\n",
      "[CV 1/5] END ...n_neighbors=1, weights=distance;, score=0.970 total time=  27.5s\n",
      "[CV 2/5] END ...n_neighbors=1, weights=distance;, score=0.971 total time=  27.4s\n",
      "[CV 3/5] END ...n_neighbors=1, weights=distance;, score=0.969 total time=  27.2s\n",
      "[CV 4/5] END ...n_neighbors=1, weights=distance;, score=0.969 total time=  27.9s\n",
      "[CV 5/5] END ...n_neighbors=1, weights=distance;, score=0.968 total time=  26.9s\n",
      "[CV 1/5] END ....n_neighbors=2, weights=uniform;, score=0.964 total time=  29.2s\n",
      "[CV 2/5] END ....n_neighbors=2, weights=uniform;, score=0.963 total time=  29.1s\n",
      "[CV 3/5] END ....n_neighbors=2, weights=uniform;, score=0.962 total time=  28.1s\n",
      "[CV 4/5] END ....n_neighbors=2, weights=uniform;, score=0.963 total time=  28.6s\n",
      "[CV 5/5] END ....n_neighbors=2, weights=uniform;, score=0.964 total time=  28.1s\n",
      "[CV 1/5] END ...n_neighbors=2, weights=distance;, score=0.970 total time=  27.6s\n",
      "[CV 2/5] END ...n_neighbors=2, weights=distance;, score=0.971 total time=  27.7s\n",
      "[CV 3/5] END ...n_neighbors=2, weights=distance;, score=0.969 total time=  27.3s\n",
      "[CV 4/5] END ...n_neighbors=2, weights=distance;, score=0.969 total time=  27.7s\n",
      "[CV 5/5] END ...n_neighbors=2, weights=distance;, score=0.968 total time=  27.7s\n",
      "[CV 1/5] END ....n_neighbors=3, weights=uniform;, score=0.972 total time=  30.3s\n",
      "[CV 2/5] END ....n_neighbors=3, weights=uniform;, score=0.971 total time=  29.2s\n",
      "[CV 3/5] END ....n_neighbors=3, weights=uniform;, score=0.969 total time=  31.3s\n",
      "[CV 4/5] END ....n_neighbors=3, weights=uniform;, score=0.969 total time=  29.3s\n",
      "[CV 5/5] END ....n_neighbors=3, weights=uniform;, score=0.970 total time=  29.4s\n",
      "[CV 1/5] END ...n_neighbors=3, weights=distance;, score=0.972 total time=  29.8s\n",
      "[CV 2/5] END ...n_neighbors=3, weights=distance;, score=0.972 total time=  29.8s\n",
      "[CV 3/5] END ...n_neighbors=3, weights=distance;, score=0.970 total time=  29.6s\n",
      "[CV 4/5] END ...n_neighbors=3, weights=distance;, score=0.970 total time=  29.9s\n",
      "[CV 5/5] END ...n_neighbors=3, weights=distance;, score=0.971 total time=  30.6s\n",
      "[CV 1/5] END ....n_neighbors=4, weights=uniform;, score=0.969 total time=  32.2s\n",
      "[CV 2/5] END ....n_neighbors=4, weights=uniform;, score=0.968 total time=  32.2s\n",
      "[CV 3/5] END ....n_neighbors=4, weights=uniform;, score=0.968 total time=  31.3s\n",
      "[CV 4/5] END ....n_neighbors=4, weights=uniform;, score=0.967 total time=  31.2s\n",
      "[CV 5/5] END ....n_neighbors=4, weights=uniform;, score=0.970 total time=  31.9s\n",
      "[CV 1/5] END ...n_neighbors=4, weights=distance;, score=0.973 total time=  31.6s\n",
      "[CV 2/5] END ...n_neighbors=4, weights=distance;, score=0.972 total time=  31.5s\n",
      "[CV 3/5] END ...n_neighbors=4, weights=distance;, score=0.970 total time=  30.3s\n",
      "[CV 4/5] END ...n_neighbors=4, weights=distance;, score=0.971 total time=  31.3s\n",
      "[CV 5/5] END ...n_neighbors=4, weights=distance;, score=0.972 total time=  35.0s\n",
      "[CV 1/5] END ....n_neighbors=5, weights=uniform;, score=0.970 total time=  31.6s\n",
      "[CV 2/5] END ....n_neighbors=5, weights=uniform;, score=0.970 total time=  32.0s\n",
      "[CV 3/5] END ....n_neighbors=5, weights=uniform;, score=0.969 total time=  31.9s\n",
      "[CV 4/5] END ....n_neighbors=5, weights=uniform;, score=0.968 total time=  31.8s\n",
      "[CV 5/5] END ....n_neighbors=5, weights=uniform;, score=0.969 total time=  32.4s\n",
      "[CV 1/5] END ...n_neighbors=5, weights=distance;, score=0.970 total time=  31.2s\n",
      "[CV 2/5] END ...n_neighbors=5, weights=distance;, score=0.971 total time=  31.7s\n",
      "[CV 3/5] END ...n_neighbors=5, weights=distance;, score=0.970 total time=  31.2s\n",
      "[CV 4/5] END ...n_neighbors=5, weights=distance;, score=0.969 total time=  31.4s\n",
      "[CV 5/5] END ...n_neighbors=5, weights=distance;, score=0.971 total time=  32.6s\n",
      "[CV 1/5] END ....n_neighbors=6, weights=uniform;, score=0.968 total time=  31.5s\n",
      "[CV 2/5] END ....n_neighbors=6, weights=uniform;, score=0.969 total time=  31.0s\n",
      "[CV 3/5] END ....n_neighbors=6, weights=uniform;, score=0.968 total time=  30.8s\n",
      "[CV 4/5] END ....n_neighbors=6, weights=uniform;, score=0.967 total time=  31.6s\n",
      "[CV 5/5] END ....n_neighbors=6, weights=uniform;, score=0.969 total time=  33.0s\n",
      "[CV 1/5] END ...n_neighbors=6, weights=distance;, score=0.972 total time=  31.5s\n",
      "[CV 2/5] END ...n_neighbors=6, weights=distance;, score=0.972 total time=  30.9s\n",
      "[CV 3/5] END ...n_neighbors=6, weights=distance;, score=0.970 total time=  30.9s\n",
      "[CV 4/5] END ...n_neighbors=6, weights=distance;, score=0.970 total time=  36.9s\n",
      "[CV 5/5] END ...n_neighbors=6, weights=distance;, score=0.972 total time=  34.9s\n",
      "[CV 1/5] END ....n_neighbors=7, weights=uniform;, score=0.968 total time=  34.3s\n",
      "[CV 2/5] END ....n_neighbors=7, weights=uniform;, score=0.970 total time=  32.3s\n",
      "[CV 3/5] END ....n_neighbors=7, weights=uniform;, score=0.966 total time=  31.3s\n",
      "[CV 4/5] END ....n_neighbors=7, weights=uniform;, score=0.967 total time=  31.7s\n",
      "[CV 5/5] END ....n_neighbors=7, weights=uniform;, score=0.968 total time=  35.0s\n",
      "[CV 1/5] END ...n_neighbors=7, weights=distance;, score=0.969 total time=  35.6s\n",
      "[CV 2/5] END ...n_neighbors=7, weights=distance;, score=0.970 total time=  35.2s\n",
      "[CV 3/5] END ...n_neighbors=7, weights=distance;, score=0.967 total time=  32.8s\n",
      "[CV 4/5] END ...n_neighbors=7, weights=distance;, score=0.969 total time=  32.2s\n",
      "[CV 5/5] END ...n_neighbors=7, weights=distance;, score=0.969 total time=  35.8s\n",
      "[CV 1/5] END ....n_neighbors=8, weights=uniform;, score=0.966 total time=  48.8s\n",
      "[CV 2/5] END ....n_neighbors=8, weights=uniform;, score=0.967 total time=  52.7s\n",
      "[CV 3/5] END ....n_neighbors=8, weights=uniform;, score=0.965 total time=  51.8s\n",
      "[CV 4/5] END ....n_neighbors=8, weights=uniform;, score=0.965 total time=  47.6s\n",
      "[CV 5/5] END ....n_neighbors=8, weights=uniform;, score=0.968 total time=  46.7s\n",
      "[CV 1/5] END ...n_neighbors=8, weights=distance;, score=0.969 total time=  35.3s\n",
      "[CV 2/5] END ...n_neighbors=8, weights=distance;, score=0.970 total time=  35.4s\n",
      "[CV 3/5] END ...n_neighbors=8, weights=distance;, score=0.967 total time=  30.5s\n",
      "[CV 4/5] END ...n_neighbors=8, weights=distance;, score=0.968 total time=  31.4s\n",
      "[CV 5/5] END ...n_neighbors=8, weights=distance;, score=0.971 total time=  30.5s\n",
      "[CV 1/5] END ....n_neighbors=9, weights=uniform;, score=0.965 total time=  33.4s\n",
      "[CV 2/5] END ....n_neighbors=9, weights=uniform;, score=0.968 total time=  34.2s\n",
      "[CV 3/5] END ....n_neighbors=9, weights=uniform;, score=0.965 total time=  30.0s\n",
      "[CV 4/5] END ....n_neighbors=9, weights=uniform;, score=0.965 total time=  30.0s\n",
      "[CV 5/5] END ....n_neighbors=9, weights=uniform;, score=0.968 total time=  31.2s\n",
      "[CV 1/5] END ...n_neighbors=9, weights=distance;, score=0.967 total time=  29.4s\n",
      "[CV 2/5] END ...n_neighbors=9, weights=distance;, score=0.968 total time=  29.8s\n",
      "[CV 3/5] END ...n_neighbors=9, weights=distance;, score=0.966 total time=  29.1s\n",
      "[CV 4/5] END ...n_neighbors=9, weights=distance;, score=0.966 total time=  29.4s\n",
      "[CV 5/5] END ...n_neighbors=9, weights=distance;, score=0.970 total time=  29.5s\n",
      "[CV 1/5] END ...n_neighbors=10, weights=uniform;, score=0.965 total time=  29.5s\n",
      "[CV 2/5] END ...n_neighbors=10, weights=uniform;, score=0.966 total time=  29.6s\n",
      "[CV 3/5] END ...n_neighbors=10, weights=uniform;, score=0.963 total time=  30.1s\n",
      "[CV 4/5] END ...n_neighbors=10, weights=uniform;, score=0.964 total time=  30.4s\n",
      "[CV 5/5] END ...n_neighbors=10, weights=uniform;, score=0.967 total time=  34.2s\n",
      "[CV 1/5] END ..n_neighbors=10, weights=distance;, score=0.967 total time=  32.2s\n",
      "[CV 2/5] END ..n_neighbors=10, weights=distance;, score=0.969 total time=  29.6s\n",
      "[CV 3/5] END ..n_neighbors=10, weights=distance;, score=0.966 total time=  28.9s\n",
      "[CV 4/5] END ..n_neighbors=10, weights=distance;, score=0.965 total time=  30.2s\n",
      "[CV 5/5] END ..n_neighbors=10, weights=distance;, score=0.969 total time=  30.8s\n"
     ]
    },
    {
     "data": {
      "text/plain": [
       "GridSearchCV(cv=5, estimator=KNeighborsClassifier(),\n",
       "             param_grid=[{'n_neighbors': [1, 2, 3, 4, 5, 6, 7, 8, 9, 10],\n",
       "                          'weights': ['uniform', 'distance']}],\n",
       "             verbose=3)"
      ]
     },
     "execution_count": 26,
     "metadata": {},
     "output_type": "execute_result"
    }
   ],
   "source": [
    "from sklearn.model_selection import GridSearchCV\n",
    "\n",
    "param_grid = [\n",
    "    {\"weights\": [\"uniform\", \"distance\"], \"n_neighbors\": [1, 2, 3, 4, 5, 6, 7, 8, 9, 10]}\n",
    "]\n",
    "knn_clf = KNeighborsClassifier()\n",
    "\n",
    "grid_search = GridSearchCV(knn_clf, param_grid, cv=5, verbose=3)\n",
    "grid_search.fit(X_train, y_train)\n"
   ]
  },
  {
   "cell_type": "code",
   "execution_count": 29,
   "metadata": {},
   "outputs": [
    {
     "data": {
      "text/plain": [
       "0.9716166666666666"
      ]
     },
     "execution_count": 29,
     "metadata": {},
     "output_type": "execute_result"
    }
   ],
   "source": [
    "grid_search.best_score_\n"
   ]
  },
  {
   "cell_type": "code",
   "execution_count": 30,
   "metadata": {},
   "outputs": [
    {
     "data": {
      "text/plain": [
       "0.9714"
      ]
     },
     "execution_count": 30,
     "metadata": {},
     "output_type": "execute_result"
    }
   ],
   "source": [
    "from sklearn.metrics import accuracy_score\n",
    "\n",
    "y_hat = grid_search.predict(X_test)\n",
    "accuracy_score(y_test, y_hat)\n"
   ]
  },
  {
   "cell_type": "code",
   "execution_count": 32,
   "metadata": {},
   "outputs": [
    {
     "data": {
      "text/plain": [
       "{'n_neighbors': 4, 'weights': 'distance'}"
      ]
     },
     "execution_count": 32,
     "metadata": {},
     "output_type": "execute_result"
    }
   ],
   "source": [
    "dict(**grid_search.best_params_)"
   ]
  },
  {
   "cell_type": "code",
   "execution_count": 33,
   "metadata": {},
   "outputs": [
    {
     "data": {
      "text/plain": [
       "dict"
      ]
     },
     "execution_count": 33,
     "metadata": {},
     "output_type": "execute_result"
    }
   ],
   "source": [
    "type(grid_search.best_params_)"
   ]
  },
  {
   "cell_type": "code",
   "execution_count": null,
   "metadata": {},
   "outputs": [],
   "source": []
  }
 ],
 "metadata": {
  "interpreter": {
   "hash": "e7370f93d1d0cde622a1f8e1c04877d8463912d04d973331ad4851f04de6915a"
  },
  "kernelspec": {
   "display_name": "Python 3.9.7 64-bit",
   "language": "python",
   "name": "python3"
  },
  "language_info": {
   "codemirror_mode": {
    "name": "ipython",
    "version": 3
   },
   "file_extension": ".py",
   "mimetype": "text/x-python",
   "name": "python",
   "nbconvert_exporter": "python",
   "pygments_lexer": "ipython3",
   "version": "3.8.13"
  },
  "orig_nbformat": 4
 },
 "nbformat": 4,
 "nbformat_minor": 2
}
